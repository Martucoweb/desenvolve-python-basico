{
 "cells": [
  {
   "cell_type": "markdown",
   "id": "0d5035b5",
   "metadata": {},
   "source": [
    "# Set\n",
    "\n",
    "## Aula 8.1"
   ]
  },
  {
   "cell_type": "markdown",
   "id": "0bdece85",
   "metadata": {},
   "source": [
    "### Q1. \n",
    "\n",
    "Dada uma string qualquer, use seu conhecimento de sets para apresentar os caracteres únicos que aparecem na string, ordenados alfabeticamente e sem duplicatas. Preste atenção em duplicatas de maiúsculas e minúsculas.\n"
   ]
  },
  {
   "cell_type": "code",
   "execution_count": null,
   "id": "0a258eba",
   "metadata": {},
   "outputs": [],
   "source": [
    "frase = \"O rato roeu a roupa do Robson\"\n",
    "\n",
    "# String dada\n",
    "frase = \"O rato roeu a roupa do Robson\"\n",
    "\n",
    "# Passo 1: Converter a string para minúsculas\n",
    "frase_minuscula = frase.lower()\n",
    "\n",
    "# Passo 2: Criar um set a partir da string para eliminar duplicatas\n",
    "caracteres_unicos = set(frase_minuscula)\n",
    "\n",
    "# Passo 3: Filtrar apenas os caracteres alfabéticos\n",
    "caracteres_alfabeticos = {char for char in caracteres_unicos if char.isalpha()}\n",
    "\n",
    "# Passo 4: Ordenar os caracteres resultantes\n",
    "caracteres_ordenados = sorted(caracteres_alfabeticos)\n",
    "\n",
    "# Passo 5: Imprimir os caracteres ordenados\n",
    "print(caracteres_ordenados)\n"
   ]
  },
  {
   "cell_type": "markdown",
   "id": "0856bd56",
   "metadata": {},
   "source": [
    "### Q2\n",
    "\n",
    "Desenvolva uma função em Python chamada ```tem_elementos_comuns()``` que recebe duas listas como parâmetros e retorna True se houver algum elemento comum entre as duas listas, e False caso contrário. Utilize sets para resolver essa tarefa."
   ]
  },
  {
   "cell_type": "code",
   "execution_count": null,
   "id": "f7ab6736",
   "metadata": {},
   "outputs": [],
   "source": [
    "def tem_elementos_comuns(lista1, lista2):\n",
    "    # Converter as listas em sets\n",
    "    set1 = set(lista1)\n",
    "    set2 = set(lista2)\n",
    "    \n",
    "    # Verificar a interseção entre os dois sets\n",
    "    intersecao = set1 & set2\n",
    "    \n",
    "    # Retornar True se a interseção não estiver vazia, False caso contrário\n",
    "    return bool(intersecao)\n",
    "\n",
    "# Exemplos de uso:\n",
    "lista1 = [1, 2, 3, 4, 5]\n",
    "lista2 = [5, 6, 7, 8, 9]\n",
    "print(tem_elementos_comuns(lista1, lista2))  # Deve retornar True\n",
    "\n",
    "lista3 = ['a', 'b', 'c']\n",
    "lista4 = ['x', 'y', 'z']\n",
    "print(tem_elementos_comuns(lista3, lista4))  # Deve retornar False\n",
    "\n"
   ]
  },
  {
   "cell_type": "code",
   "execution_count": null,
   "id": "1022744a",
   "metadata": {},
   "outputs": [],
   "source": [
    "# Execute esta célula para testar a função da Q2.\n",
    "\n",
    "lista1 = [1, 2, 3, 4]\n",
    "lista2 = [3, 4, 5, 6, 7]\n",
    "resultado = tem_elementos_comuns(lista1, lista2)\n",
    "print(resultado)  # Saída esperada: True"
   ]
  },
  {
   "cell_type": "markdown",
   "id": "649a5082",
   "metadata": {},
   "source": [
    "### Q3. \n",
    "\n",
    "Você vai coletar de diferentes turmas de alunos seus interesses em atividades extra curriculares dentre futebol, vôlei, rugby, música, teatro, ações comunitárias. Informe o conjunto de atividades comuns a todas a turmas. Pode preencher o iterável turmas com valores arbitrários. \n"
   ]
  },
  {
   "cell_type": "code",
   "execution_count": null,
   "id": "880a9927",
   "metadata": {},
   "outputs": [],
   "source": [
    "def atividades_comuns(turmas):\n",
    "    # Inicializar o conjunto de interseção com o primeiro conjunto de atividades\n",
    "    interseccao_atividades = turmas[0]\n",
    "    \n",
    "    # Iterar sobre os demais conjuntos e atualizar a interseção\n",
    "    for turma in turmas[1:]:\n",
    "        interseccao_atividades &= turma\n",
    "    \n",
    "    return interseccao_atividades\n",
    "\n",
    "# Iterável turmas com valores arbitrários\n",
    "turmas = [\n",
    "    {'ações comunitárias', 'futebol', 'música', 'rugby'},\n",
    "    {'ações comunitárias', 'música', 'rugby', 'teatro'},\n",
    "    {'música', 'rugby', 'teatro', 'vôlei'},\n",
    "    {'música', 'vôlei', 'rugby'},\n",
    "    {'ações comunitárias', 'futebol', 'rugby', 'teatro', 'vôlei'},\n",
    "    {'ações comunitárias', 'futebol', 'rugby'},\n",
    "    {'ações comunitárias', 'rugby', 'teatro', 'vôlei'},\n",
    "    {'ações comunitárias', 'rugby', 'teatro', 'vôlei'},\n",
    "    {'ações comunitárias', 'rugby', 'vôlei'}\n",
    "]\n",
    "\n",
    "# Encontrar o conjunto de atividades comuns a todas as turmas\n",
    "atividades_comuns_a_todas = atividades_comuns(turmas)\n",
    "\n",
    "# Imprimir o resultado\n",
    "print(\"Atividades comuns a todas as turmas:\", atividades_comuns_a_todas)\n",
    "\n"
   ]
  },
  {
   "cell_type": "markdown",
   "id": "021e2b1e",
   "metadata": {},
   "source": [
    "### Q4. \n",
    "Considere duas listas que são duplicatas uma da outra, exceto por um elemento, exemplo:\n",
    "```\n",
    "A = [1, 4, 5, 7, 9]\n",
    "B = [4, 5, 7, 9]\n",
    "```\n",
    "\n",
    "Encontre e apresente o elemento diferente, informando também qual das listas está desfalcada. Para o exemplo acima, a saída esperada é\n",
    "```\n",
    "O elemento 1 está faltando na segunda lista\n",
    "```"
   ]
  },
  {
   "cell_type": "code",
   "execution_count": null,
   "id": "608761a4",
   "metadata": {},
   "outputs": [],
   "source": [
    "## Implemente aqui sua solução"
   ]
  },
  {
   "cell_type": "markdown",
   "id": "ddf180c1",
   "metadata": {},
   "source": [
    "### Q5.\n",
    "\n",
    "Panagramas são frases que contém todas as letras do alfabeto pelo menos uma vez. Crie uma função ```checa_panagrama``` que recebe uma string e retorna ```True``` caso seja um panagrama ou ```False```caso contrário. Use seu conhecimento de sets para solucionar essa questão.\n",
    "\n",
    "Ex: \n",
    "```\n",
    "Entrada: \"The quick brown fox jumps over the lazy dog\" \n",
    "Saída: É um panagrama\n",
    "```\n",
    "\n",
    "```\n",
    "Entrada: \"Python é uma linguagem de programação\" \n",
    "Saída: Não é um panagrama\n",
    "```"
   ]
  },
  {
   "cell_type": "code",
   "execution_count": null,
   "id": "4e8b0390",
   "metadata": {},
   "outputs": [],
   "source": [
    "## Implemente aqui sua solução"
   ]
  }
 ],
 "metadata": {
  "kernelspec": {
   "display_name": "Python 3 (ipykernel)",
   "language": "python",
   "name": "python3"
  },
  "language_info": {
   "codemirror_mode": {
    "name": "ipython",
    "version": 3
   },
   "file_extension": ".py",
   "mimetype": "text/x-python",
   "name": "python",
   "nbconvert_exporter": "python",
   "pygments_lexer": "ipython3",
   "version": "3.11.7"
  }
 },
 "nbformat": 4,
 "nbformat_minor": 5
}
