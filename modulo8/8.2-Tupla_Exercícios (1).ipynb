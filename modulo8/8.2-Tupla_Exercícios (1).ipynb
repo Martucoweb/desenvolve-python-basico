{
 "cells": [
  {
   "cell_type": "markdown",
   "id": "0d5035b5",
   "metadata": {},
   "source": [
    "# Tupla\n",
    "\n",
    "## Aula 8.2"
   ]
  },
  {
   "cell_type": "markdown",
   "id": "0bdece85",
   "metadata": {},
   "source": [
    "### Q1. \n",
    "\n",
    "Escreva uma função ```calcula_area_perimetro``` que recebe **apenas um parâmetro** ```dimensoes``` e calcula a área e o perímetro a partir das dimensões dadas. \n",
    "- ```dimensoes``` é uma tupla (largura, comprimento) com as dimensões de um terreno retangular\n",
    "- Sua função deve calcular e retornar as seguintes operações\n",
    "   - $area = largura \\times comprimento$\n",
    "   - $perimetro = 2\\times(largura + comprimento)$\n"
   ]
  },
  {
   "cell_type": "code",
   "execution_count": null,
   "id": "0a258eba",
   "metadata": {},
   "outputs": [],
   "source": [
    "# Implemente aqui a função calcula_area_perimetro\n",
    "def calcula_area_perimetro(dimensoes):\n",
    "    # Desempacotar a tupla para obter a largura e o comprimento\n",
    "    largura, comprimento = dimensoes\n",
    "    \n",
    "    # Calcular a área\n",
    "    area = largura * comprimento\n",
    "    \n",
    "    # Calcular o perímetro\n",
    "    perimetro = 2 * (largura + comprimento)\n",
    "    \n",
    "    # Retornar uma tupla contendo a área e o perímetro\n",
    "    return (area, perimetro)\n",
    "\n",
    "# Exemplo de uso:\n",
    "dimensoes = (5, 10)\n",
    "area, perimetro = calcula_area_perimetro(dimensoes)\n",
    "print(f\"Área: {area}, Perímetro: {perimetro}\")\n"
   ]
  },
  {
   "cell_type": "code",
   "execution_count": null,
   "id": "e1866c04",
   "metadata": {},
   "outputs": [],
   "source": [
    "def calcula_area_perimetro(dimensoes):\n",
    "    # Desempacotar a tupla para obter a largura e o comprimento\n",
    "    largura, comprimento = dimensoes\n",
    "    \n",
    "    # Calcular a área\n",
    "    area = largura * comprimento\n",
    "    \n",
    "    # Calcular o perímetro\n",
    "    perimetro = 2 * (largura + comprimento)\n",
    "    \n",
    "    # Retornar uma tupla contendo a área e o perímetro\n",
    "    return (area, perimetro)\n",
    "\n",
    "# Exemplo de uso:\n",
    "largura = 5\n",
    "comprimento = 7\n",
    "\n",
    "# Chamada da função com as dimensões como uma tupla\n",
    "retorno = calcula_area_perimetro((largura, comprimento))\n",
    "\n",
    "# Imprimir o retorno e seu tipo\n",
    "print(retorno, type(retorno))"
   ]
  },
  {
   "cell_type": "markdown",
   "id": "cbdcb986",
   "metadata": {},
   "source": [
    "### Q2.\n",
    "\n",
    "Dada uma string, imprima todas as vogais que aparecem na string, bem como todos os índices onde elas ocorrem. Para isso, use a função ```enumerate```.\n"
   ]
  },
  {
   "cell_type": "code",
   "execution_count": null,
   "id": "1f6b1f2d",
   "metadata": {},
   "outputs": [],
   "source": [
    "def encontrar_vogais_e_indices(frase):\n",
    "    # Definindo as vogais\n",
    "    vogais = 'aeiouAEIOU'\n",
    "    \n",
    "    # Listas para armazenar as vogais e seus índices\n",
    "    resultado = []\n",
    "    \n",
    "    # Iterar sobre a string com a função enumerate para obter caracteres e índices\n",
    "    for indice, caractere in enumerate(frase):\n",
    "        if caractere in vogais:\n",
    "            resultado.append((caractere, indice))\n",
    "    \n",
    "    # Imprimir o resultado\n",
    "    for vogal, indice in resultado:\n",
    "        print(f\"Vogal: {vogal}, Índice: {indice}\")\n",
    "\n",
    "# Exemplo de uso\n",
    "frase = \"O rato roeu a roupa da Alice\"\n",
    "encontrar_vogais_e_indices(frase)"
   ]
  },
  {
   "cell_type": "markdown",
   "id": "8d46663f",
   "metadata": {},
   "source": [
    "### Q3.\n",
    "\n",
    "Escreva uma função em Python chamada ```ordenar_tuplas``` que recebe uma lista de tuplas, cada uma contendo o nome de um aluno e sua respectiva média, e retorna uma nova lista ordenada em ordem decrescente de médias."
   ]
  },
  {
   "cell_type": "code",
   "execution_count": null,
   "id": "469f2e6e",
   "metadata": {},
   "outputs": [],
   "source": [
    "# Implemente aqui a função ordenar_tuplas\n",
    "def ordenar_tuplas(lista_de_tuplas):\n",
    "    # Usar sorted com uma função lambda para ordenar pela média em ordem decrescente\n",
    "    lista_ordenada = sorted(lista_de_tuplas, key=lambda aluno: aluno[1], reverse=True)\n",
    "    return lista_ordenada"
   ]
  },
  {
   "cell_type": "code",
   "execution_count": null,
   "id": "1972c62b",
   "metadata": {},
   "outputs": [],
   "source": [
    "def ordenar_tuplas(lista_de_tuplas):\n",
    "    # Usar sorted com uma função lambda para ordenar pela média em ordem decrescente\n",
    "    lista_ordenada = sorted(lista_de_tuplas, key=lambda aluno: aluno[1], reverse=True)\n",
    "    return lista_ordenada\n",
    "\n",
    "# Exemplo de uso\n",
    "alunos_notas = [('Alice', 8.5), ('Bob', 7.2), ('Charlie', 9.0), ('David', 8.8)]\n",
    "resultado = ordenar_tuplas(alunos_notas)\n",
    "print(resultado)\n",
    "# Saída esperada: [('Charlie', 9.0), ('David', 8.8), ('Alice', 8.5), ('Bob', 7.2)]\n",
    "Explicação"
   ]
  },
  {
   "cell_type": "markdown",
   "id": "e0268fae",
   "metadata": {},
   "source": [
    "### Q4.\n",
    "\n",
    "Escreva uma função em Python chamada ```comprimir_tuplas``` que recebe uma lista de tuplas, cada uma contendo uma palavra e um número, e retorna uma nova lista de tuplas onde palavras idênticas são agrupadas e seus números são somados.\n",
    "\n"
   ]
  },
  {
   "cell_type": "code",
   "execution_count": null,
   "id": "30a221f3",
   "metadata": {},
   "outputs": [],
   "source": [
    "# Implemente aqui a função comprimir_tuplas\n",
    "def comprimir_tuplas(lista_de_tuplas):\n",
    "    # Usar um dicionário para agrupar as palavras e somar os números\n",
    "    dicionario = {}\n",
    "    for palavra, numero in lista_de_tuplas:\n",
    "        if palavra in dicionario:\n",
    "            dicionario[palavra] += numero\n",
    "        else:\n",
    "            dicionario[palavra] = numero\n",
    "    \n",
    "    # Converter o dicionário de volta para uma lista de tuplas\n",
    "    lista_comprimida = [(palavra, numero) for palavra, numero in dicionario.items()]\n",
    "    \n",
    "    return lista_comprimida"
   ]
  },
  {
   "cell_type": "code",
   "execution_count": null,
   "id": "80972bac",
   "metadata": {},
   "outputs": [],
   "source": [
    "# Exemplo de uso:\n",
    "tuplas_originais = [('maçã', 3), ('banana', 2), ('maçã', 5), ('laranja', 1), ('banana', 3)]\n",
    "resultado = comprimir_tuplas(tuplas_originais)\n",
    "print(resultado)\n",
    "# Saída esperada: [('maçã', 8), ('banana', 5), ('laranja', 1)]"
   ]
  },
  {
   "cell_type": "markdown",
   "id": "649a5082",
   "metadata": {},
   "source": [
    "### Q5. \n",
    "\n",
    "- Escreva um script que peça o nome e a idade de todos na fila de uma balada. Crie uma lista de tuplas com os pares ```(nome, idade)``` de cada um. \n",
    "- Em seguida crie e imprima duas tuplas apenas com os nomes, uma com os menores de idade que não poderão entrar, e uma com os maiores de idade (```idade >= 18```). \n",
    "\n"
   ]
  },
  {
   "cell_type": "code",
   "execution_count": null,
   "id": "47cb0573",
   "metadata": {},
   "outputs": [],
   "source": [
    "## Implemente aqui sua solução"
   ]
  }
 ],
 "metadata": {
  "kernelspec": {
   "display_name": "Python 3 (ipykernel)",
   "language": "python",
   "name": "python3"
  },
  "language_info": {
   "codemirror_mode": {
    "name": "ipython",
    "version": 3
   },
   "file_extension": ".py",
   "mimetype": "text/x-python",
   "name": "python",
   "nbconvert_exporter": "python",
   "pygments_lexer": "ipython3",
   "version": "3.11.7"
  }
 },
 "nbformat": 4,
 "nbformat_minor": 5
}
